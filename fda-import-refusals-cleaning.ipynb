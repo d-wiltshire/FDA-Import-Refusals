{
 "cells": [
  {
   "cell_type": "code",
   "execution_count": 1,
   "id": "38dd6cce",
   "metadata": {},
   "outputs": [],
   "source": [
    "import pandas as pd\n",
    "import numpy as np\n",
    "import os\n",
    "import re"
   ]
  },
  {
   "cell_type": "code",
   "execution_count": 2,
   "id": "27590f9d",
   "metadata": {},
   "outputs": [
    {
     "name": "stderr",
     "output_type": "stream",
     "text": [
      "C:\\Users\\David\\anaconda3\\envs\\PythonData\\lib\\site-packages\\IPython\\core\\interactiveshell.py:3444: DtypeWarning: Columns (0) have mixed types.Specify dtype option on import or set low_memory=False.\n",
      "  exec(code_obj, self.user_global_ns, self.user_ns)\n"
     ]
    }
   ],
   "source": [
    "refusals_df= pd.read_csv(\"Resources/Import_Refusals_Dataset.csv\")"
   ]
  },
  {
   "cell_type": "code",
   "execution_count": 3,
   "id": "437a48e7",
   "metadata": {},
   "outputs": [
    {
     "data": {
      "text/html": [
       "<div>\n",
       "<style scoped>\n",
       "    .dataframe tbody tr th:only-of-type {\n",
       "        vertical-align: middle;\n",
       "    }\n",
       "\n",
       "    .dataframe tbody tr th {\n",
       "        vertical-align: top;\n",
       "    }\n",
       "\n",
       "    .dataframe thead th {\n",
       "        text-align: right;\n",
       "    }\n",
       "</style>\n",
       "<table border=\"1\" class=\"dataframe\">\n",
       "  <thead>\n",
       "    <tr style=\"text-align: right;\">\n",
       "      <th></th>\n",
       "      <th>FEI Number</th>\n",
       "      <th>Firm Legal Name</th>\n",
       "      <th>Firm Address</th>\n",
       "      <th>Product Code and Description</th>\n",
       "      <th>Refused Date</th>\n",
       "      <th>Import Division</th>\n",
       "      <th>Shipment ID</th>\n",
       "      <th>FDA Sample Analysis</th>\n",
       "      <th>Private Lab Analysis</th>\n",
       "      <th>Refusal Charges</th>\n",
       "    </tr>\n",
       "  </thead>\n",
       "  <tbody>\n",
       "    <tr>\n",
       "      <th>0</th>\n",
       "      <td>3013055533</td>\n",
       "      <td>Green Farms Seafood Joint Stock Company</td>\n",
       "      <td>289 Le dai hanh st., ward 13, district 11, Ho ...</td>\n",
       "      <td>16AGD99 \\ FISH, N.E.C.</td>\n",
       "      <td>10/13/2022</td>\n",
       "      <td>Division of West Coast Imports (DWCI)</td>\n",
       "      <td>9EX-2206503-4/41/1/</td>\n",
       "      <td>Yes</td>\n",
       "      <td>No</td>\n",
       "      <td>2860</td>\n",
       "    </tr>\n",
       "    <tr>\n",
       "      <th>1</th>\n",
       "      <td>3013055533</td>\n",
       "      <td>Green Farms Seafood Joint Stock Company</td>\n",
       "      <td>289 Le dai hanh st., ward 13, district 11, Ho ...</td>\n",
       "      <td>16AGD99 \\ FISH, N.E.C.</td>\n",
       "      <td>10/13/2022</td>\n",
       "      <td>Division of West Coast Imports (DWCI)</td>\n",
       "      <td>9EX-2206503-4/11/1/</td>\n",
       "      <td>Yes</td>\n",
       "      <td>No</td>\n",
       "      <td>2860</td>\n",
       "    </tr>\n",
       "    <tr>\n",
       "      <th>2</th>\n",
       "      <td>3003242659</td>\n",
       "      <td>Edwards Lifesciences</td>\n",
       "      <td>Parque Industrial Itabo Sa, , Haina, , Dominic...</td>\n",
       "      <td>74DXO \\ TRANSDUCER, PRESSURE, CATHETER TIP</td>\n",
       "      <td>10/13/2022</td>\n",
       "      <td>Division of Southeast Imports (DSEI)</td>\n",
       "      <td>101-7589659-6/101/1/</td>\n",
       "      <td>No</td>\n",
       "      <td>No</td>\n",
       "      <td>2780</td>\n",
       "    </tr>\n",
       "    <tr>\n",
       "      <th>3</th>\n",
       "      <td>13365</td>\n",
       "      <td>PA-Siam Intertrade Co. Ltd.</td>\n",
       "      <td>Bangpongpang, Yannawa, 619 621,623, 1/10-12 , ...</td>\n",
       "      <td>33LGT99 \\ SOFT CANDY WITHOUT NUTS AND FRUIT, N...</td>\n",
       "      <td>10/13/2022</td>\n",
       "      <td>Division of West Coast Imports (DWCI)</td>\n",
       "      <td>277-0184492-3/31/1/D</td>\n",
       "      <td>No</td>\n",
       "      <td>No</td>\n",
       "      <td>324,482</td>\n",
       "    </tr>\n",
       "    <tr>\n",
       "      <th>4</th>\n",
       "      <td>13365</td>\n",
       "      <td>PA-Siam Intertrade Co. Ltd.</td>\n",
       "      <td>Bangpongpang, Yannawa, 619 621,623, 1/10-12 , ...</td>\n",
       "      <td>33LGT99 \\ SOFT CANDY WITHOUT NUTS AND FRUIT, N...</td>\n",
       "      <td>10/13/2022</td>\n",
       "      <td>Division of West Coast Imports (DWCI)</td>\n",
       "      <td>277-0184492-3/31/1/C</td>\n",
       "      <td>No</td>\n",
       "      <td>No</td>\n",
       "      <td>324,482</td>\n",
       "    </tr>\n",
       "  </tbody>\n",
       "</table>\n",
       "</div>"
      ],
      "text/plain": [
       "   FEI Number                          Firm Legal Name  \\\n",
       "0  3013055533  Green Farms Seafood Joint Stock Company   \n",
       "1  3013055533  Green Farms Seafood Joint Stock Company   \n",
       "2  3003242659                     Edwards Lifesciences   \n",
       "3       13365              PA-Siam Intertrade Co. Ltd.   \n",
       "4       13365              PA-Siam Intertrade Co. Ltd.   \n",
       "\n",
       "                                        Firm Address  \\\n",
       "0  289 Le dai hanh st., ward 13, district 11, Ho ...   \n",
       "1  289 Le dai hanh st., ward 13, district 11, Ho ...   \n",
       "2  Parque Industrial Itabo Sa, , Haina, , Dominic...   \n",
       "3  Bangpongpang, Yannawa, 619 621,623, 1/10-12 , ...   \n",
       "4  Bangpongpang, Yannawa, 619 621,623, 1/10-12 , ...   \n",
       "\n",
       "                        Product Code and Description Refused Date  \\\n",
       "0                             16AGD99 \\ FISH, N.E.C.   10/13/2022   \n",
       "1                             16AGD99 \\ FISH, N.E.C.   10/13/2022   \n",
       "2         74DXO \\ TRANSDUCER, PRESSURE, CATHETER TIP   10/13/2022   \n",
       "3  33LGT99 \\ SOFT CANDY WITHOUT NUTS AND FRUIT, N...   10/13/2022   \n",
       "4  33LGT99 \\ SOFT CANDY WITHOUT NUTS AND FRUIT, N...   10/13/2022   \n",
       "\n",
       "                         Import Division           Shipment ID  \\\n",
       "0  Division of West Coast Imports (DWCI)   9EX-2206503-4/41/1/   \n",
       "1  Division of West Coast Imports (DWCI)   9EX-2206503-4/11/1/   \n",
       "2   Division of Southeast Imports (DSEI)  101-7589659-6/101/1/   \n",
       "3  Division of West Coast Imports (DWCI)  277-0184492-3/31/1/D   \n",
       "4  Division of West Coast Imports (DWCI)  277-0184492-3/31/1/C   \n",
       "\n",
       "  FDA Sample Analysis Private Lab Analysis Refusal Charges  \n",
       "0                 Yes                   No            2860  \n",
       "1                 Yes                   No            2860  \n",
       "2                  No                   No            2780  \n",
       "3                  No                   No         324,482  \n",
       "4                  No                   No         324,482  "
      ]
     },
     "execution_count": 3,
     "metadata": {},
     "output_type": "execute_result"
    }
   ],
   "source": [
    "refusals_df.head()"
   ]
  },
  {
   "cell_type": "code",
   "execution_count": 4,
   "id": "49ee24c0",
   "metadata": {},
   "outputs": [
    {
     "data": {
      "text/plain": [
       "FEI Number                      object\n",
       "Firm Legal Name                 object\n",
       "Firm Address                    object\n",
       "Product Code and Description    object\n",
       "Refused Date                    object\n",
       "Import Division                 object\n",
       "Shipment ID                     object\n",
       "FDA Sample Analysis             object\n",
       "Private Lab Analysis            object\n",
       "Refusal Charges                 object\n",
       "dtype: object"
      ]
     },
     "execution_count": 4,
     "metadata": {},
     "output_type": "execute_result"
    }
   ],
   "source": [
    "refusals_df.dtypes"
   ]
  },
  {
   "cell_type": "code",
   "execution_count": 5,
   "id": "f55bf414",
   "metadata": {},
   "outputs": [
    {
     "data": {
      "text/plain": [
       "Index(['FEI Number', 'Firm Legal Name', 'Firm Address',\n",
       "       'Product Code and Description', 'Refused Date', 'Import Division',\n",
       "       'Shipment ID', 'FDA Sample Analysis', 'Private Lab Analysis',\n",
       "       'Refusal Charges'],\n",
       "      dtype='object')"
      ]
     },
     "execution_count": 5,
     "metadata": {},
     "output_type": "execute_result"
    }
   ],
   "source": [
    "refusals_df.columns"
   ]
  },
  {
   "cell_type": "code",
   "execution_count": 6,
   "id": "9da0aeec",
   "metadata": {},
   "outputs": [
    {
     "data": {
      "text/plain": [
       "FEI Number                      427088\n",
       "Firm Legal Name                 427087\n",
       "Firm Address                    427088\n",
       "Product Code and Description    427088\n",
       "Refused Date                    427088\n",
       "Import Division                 427088\n",
       "Shipment ID                     427088\n",
       "FDA Sample Analysis             427088\n",
       "Private Lab Analysis            427088\n",
       "Refusal Charges                 427088\n",
       "dtype: int64"
      ]
     },
     "execution_count": 6,
     "metadata": {},
     "output_type": "execute_result"
    }
   ],
   "source": [
    "refusals_df.count()"
   ]
  },
  {
   "cell_type": "code",
   "execution_count": 7,
   "id": "d1fce2fb",
   "metadata": {},
   "outputs": [
    {
     "name": "stdout",
     "output_type": "stream",
     "text": [
      "-\n"
     ]
    }
   ],
   "source": [
    "for i in refusals_df['FEI Number']:\n",
    "    try: int(i)\n",
    "    except: print(i)\n",
    "\n",
    "\n",
    "#This code reveals that there is an entry with a hyphen preventing datatype change to int"
   ]
  },
  {
   "cell_type": "code",
   "execution_count": 8,
   "id": "50ec0d03",
   "metadata": {},
   "outputs": [
    {
     "data": {
      "text/html": [
       "<div>\n",
       "<style scoped>\n",
       "    .dataframe tbody tr th:only-of-type {\n",
       "        vertical-align: middle;\n",
       "    }\n",
       "\n",
       "    .dataframe tbody tr th {\n",
       "        vertical-align: top;\n",
       "    }\n",
       "\n",
       "    .dataframe thead th {\n",
       "        text-align: right;\n",
       "    }\n",
       "</style>\n",
       "<table border=\"1\" class=\"dataframe\">\n",
       "  <thead>\n",
       "    <tr style=\"text-align: right;\">\n",
       "      <th></th>\n",
       "      <th>FEI Number</th>\n",
       "      <th>Firm Legal Name</th>\n",
       "      <th>Firm Address</th>\n",
       "      <th>Product Code and Description</th>\n",
       "      <th>Refused Date</th>\n",
       "      <th>Import Division</th>\n",
       "      <th>Shipment ID</th>\n",
       "      <th>FDA Sample Analysis</th>\n",
       "      <th>Private Lab Analysis</th>\n",
       "      <th>Refusal Charges</th>\n",
       "    </tr>\n",
       "  </thead>\n",
       "  <tbody>\n",
       "    <tr>\n",
       "      <th>401778</th>\n",
       "      <td>-</td>\n",
       "      <td>Not Supplied</td>\n",
       "      <td>-</td>\n",
       "      <td>90IYB \\ TUBE MOUNT, X-RAY, DIAGNOSTIC</td>\n",
       "      <td>06/26/2003</td>\n",
       "      <td>Cincinnati District Office (CIN-DO)</td>\n",
       "      <td>F11-6201057-5/1/1/</td>\n",
       "      <td>No</td>\n",
       "      <td>No</td>\n",
       "      <td>476</td>\n",
       "    </tr>\n",
       "  </tbody>\n",
       "</table>\n",
       "</div>"
      ],
      "text/plain": [
       "       FEI Number Firm Legal Name Firm Address  \\\n",
       "401778          -    Not Supplied            -   \n",
       "\n",
       "                 Product Code and Description Refused Date  \\\n",
       "401778  90IYB \\ TUBE MOUNT, X-RAY, DIAGNOSTIC   06/26/2003   \n",
       "\n",
       "                            Import Division         Shipment ID  \\\n",
       "401778  Cincinnati District Office (CIN-DO)  F11-6201057-5/1/1/   \n",
       "\n",
       "       FDA Sample Analysis Private Lab Analysis Refusal Charges  \n",
       "401778                  No                   No             476  "
      ]
     },
     "execution_count": 8,
     "metadata": {},
     "output_type": "execute_result"
    }
   ],
   "source": [
    "# Finding row(s) with a hyphen in this field\n",
    "refusals_df.loc[(refusals_df[\"FEI Number\"] == '-')]"
   ]
  },
  {
   "cell_type": "code",
   "execution_count": 11,
   "id": "365d966c",
   "metadata": {},
   "outputs": [],
   "source": [
    "# Since only one row meets this criterion and the overall dataset will be minimally affected, we are dropping this row \n",
    "\n",
    "refusals_df.drop(refusals_df[refusals_df[\"FEI Number\"] == '-'].index, inplace=True)"
   ]
  },
  {
   "cell_type": "code",
   "execution_count": 12,
   "id": "a4fce925",
   "metadata": {},
   "outputs": [
    {
     "data": {
      "text/plain": [
       "FEI Number                      427087\n",
       "Firm Legal Name                 427086\n",
       "Firm Address                    427087\n",
       "Product Code and Description    427087\n",
       "Refused Date                    427087\n",
       "Import Division                 427087\n",
       "Shipment ID                     427087\n",
       "FDA Sample Analysis             427087\n",
       "Private Lab Analysis            427087\n",
       "Refusal Charges                 427087\n",
       "dtype: int64"
      ]
     },
     "execution_count": 12,
     "metadata": {},
     "output_type": "execute_result"
    }
   ],
   "source": [
    "refusals_df.count()"
   ]
  },
  {
   "cell_type": "code",
   "execution_count": 15,
   "id": "268a9983",
   "metadata": {},
   "outputs": [],
   "source": [
    "# Casting FEI Number to int64\n",
    "\n",
    "refusals_df[\"FEI Number\"] = refusals_df[\"FEI Number\"].astype('int64')"
   ]
  },
  {
   "cell_type": "code",
   "execution_count": 17,
   "id": "f660ceb5",
   "metadata": {},
   "outputs": [
    {
     "data": {
      "text/html": [
       "<div>\n",
       "<style scoped>\n",
       "    .dataframe tbody tr th:only-of-type {\n",
       "        vertical-align: middle;\n",
       "    }\n",
       "\n",
       "    .dataframe tbody tr th {\n",
       "        vertical-align: top;\n",
       "    }\n",
       "\n",
       "    .dataframe thead th {\n",
       "        text-align: right;\n",
       "    }\n",
       "</style>\n",
       "<table border=\"1\" class=\"dataframe\">\n",
       "  <thead>\n",
       "    <tr style=\"text-align: right;\">\n",
       "      <th></th>\n",
       "      <th>FEI Number</th>\n",
       "      <th>Firm Legal Name</th>\n",
       "      <th>Firm Address</th>\n",
       "      <th>Product Code and Description</th>\n",
       "      <th>Refused Date</th>\n",
       "      <th>Import Division</th>\n",
       "      <th>Shipment ID</th>\n",
       "      <th>FDA Sample Analysis</th>\n",
       "      <th>Private Lab Analysis</th>\n",
       "      <th>Refusal Charges</th>\n",
       "    </tr>\n",
       "  </thead>\n",
       "  <tbody>\n",
       "    <tr>\n",
       "      <th>0</th>\n",
       "      <td>3013055533</td>\n",
       "      <td>Green Farms Seafood Joint Stock Company</td>\n",
       "      <td>289 Le dai hanh st., ward 13, district 11, Ho ...</td>\n",
       "      <td>16AGD99 \\ FISH, N.E.C.</td>\n",
       "      <td>10/13/2022</td>\n",
       "      <td>Division of West Coast Imports (DWCI)</td>\n",
       "      <td>9EX-2206503-4/41/1/</td>\n",
       "      <td>Yes</td>\n",
       "      <td>No</td>\n",
       "      <td>2860</td>\n",
       "    </tr>\n",
       "    <tr>\n",
       "      <th>1</th>\n",
       "      <td>3013055533</td>\n",
       "      <td>Green Farms Seafood Joint Stock Company</td>\n",
       "      <td>289 Le dai hanh st., ward 13, district 11, Ho ...</td>\n",
       "      <td>16AGD99 \\ FISH, N.E.C.</td>\n",
       "      <td>10/13/2022</td>\n",
       "      <td>Division of West Coast Imports (DWCI)</td>\n",
       "      <td>9EX-2206503-4/11/1/</td>\n",
       "      <td>Yes</td>\n",
       "      <td>No</td>\n",
       "      <td>2860</td>\n",
       "    </tr>\n",
       "    <tr>\n",
       "      <th>2</th>\n",
       "      <td>3003242659</td>\n",
       "      <td>Edwards Lifesciences</td>\n",
       "      <td>Parque Industrial Itabo Sa, , Haina, , Dominic...</td>\n",
       "      <td>74DXO \\ TRANSDUCER, PRESSURE, CATHETER TIP</td>\n",
       "      <td>10/13/2022</td>\n",
       "      <td>Division of Southeast Imports (DSEI)</td>\n",
       "      <td>101-7589659-6/101/1/</td>\n",
       "      <td>No</td>\n",
       "      <td>No</td>\n",
       "      <td>2780</td>\n",
       "    </tr>\n",
       "    <tr>\n",
       "      <th>3</th>\n",
       "      <td>13365</td>\n",
       "      <td>PA-Siam Intertrade Co. Ltd.</td>\n",
       "      <td>Bangpongpang, Yannawa, 619 621,623, 1/10-12 , ...</td>\n",
       "      <td>33LGT99 \\ SOFT CANDY WITHOUT NUTS AND FRUIT, N...</td>\n",
       "      <td>10/13/2022</td>\n",
       "      <td>Division of West Coast Imports (DWCI)</td>\n",
       "      <td>277-0184492-3/31/1/D</td>\n",
       "      <td>No</td>\n",
       "      <td>No</td>\n",
       "      <td>324,482</td>\n",
       "    </tr>\n",
       "    <tr>\n",
       "      <th>4</th>\n",
       "      <td>13365</td>\n",
       "      <td>PA-Siam Intertrade Co. Ltd.</td>\n",
       "      <td>Bangpongpang, Yannawa, 619 621,623, 1/10-12 , ...</td>\n",
       "      <td>33LGT99 \\ SOFT CANDY WITHOUT NUTS AND FRUIT, N...</td>\n",
       "      <td>10/13/2022</td>\n",
       "      <td>Division of West Coast Imports (DWCI)</td>\n",
       "      <td>277-0184492-3/31/1/C</td>\n",
       "      <td>No</td>\n",
       "      <td>No</td>\n",
       "      <td>324,482</td>\n",
       "    </tr>\n",
       "  </tbody>\n",
       "</table>\n",
       "</div>"
      ],
      "text/plain": [
       "   FEI Number                          Firm Legal Name  \\\n",
       "0  3013055533  Green Farms Seafood Joint Stock Company   \n",
       "1  3013055533  Green Farms Seafood Joint Stock Company   \n",
       "2  3003242659                     Edwards Lifesciences   \n",
       "3       13365              PA-Siam Intertrade Co. Ltd.   \n",
       "4       13365              PA-Siam Intertrade Co. Ltd.   \n",
       "\n",
       "                                        Firm Address  \\\n",
       "0  289 Le dai hanh st., ward 13, district 11, Ho ...   \n",
       "1  289 Le dai hanh st., ward 13, district 11, Ho ...   \n",
       "2  Parque Industrial Itabo Sa, , Haina, , Dominic...   \n",
       "3  Bangpongpang, Yannawa, 619 621,623, 1/10-12 , ...   \n",
       "4  Bangpongpang, Yannawa, 619 621,623, 1/10-12 , ...   \n",
       "\n",
       "                        Product Code and Description Refused Date  \\\n",
       "0                             16AGD99 \\ FISH, N.E.C.   10/13/2022   \n",
       "1                             16AGD99 \\ FISH, N.E.C.   10/13/2022   \n",
       "2         74DXO \\ TRANSDUCER, PRESSURE, CATHETER TIP   10/13/2022   \n",
       "3  33LGT99 \\ SOFT CANDY WITHOUT NUTS AND FRUIT, N...   10/13/2022   \n",
       "4  33LGT99 \\ SOFT CANDY WITHOUT NUTS AND FRUIT, N...   10/13/2022   \n",
       "\n",
       "                         Import Division           Shipment ID  \\\n",
       "0  Division of West Coast Imports (DWCI)   9EX-2206503-4/41/1/   \n",
       "1  Division of West Coast Imports (DWCI)   9EX-2206503-4/11/1/   \n",
       "2   Division of Southeast Imports (DSEI)  101-7589659-6/101/1/   \n",
       "3  Division of West Coast Imports (DWCI)  277-0184492-3/31/1/D   \n",
       "4  Division of West Coast Imports (DWCI)  277-0184492-3/31/1/C   \n",
       "\n",
       "  FDA Sample Analysis Private Lab Analysis Refusal Charges  \n",
       "0                 Yes                   No            2860  \n",
       "1                 Yes                   No            2860  \n",
       "2                  No                   No            2780  \n",
       "3                  No                   No         324,482  \n",
       "4                  No                   No         324,482  "
      ]
     },
     "execution_count": 17,
     "metadata": {},
     "output_type": "execute_result"
    }
   ],
   "source": [
    "refusals_df.head()"
   ]
  },
  {
   "cell_type": "code",
   "execution_count": null,
   "id": "5f5fbfcf",
   "metadata": {},
   "outputs": [],
   "source": [
    "# Plan for next steps:\n",
    "\n",
    "# FEI Number - changed to numeric datatype; complete                      \n",
    "# Firm Legal Name - identify and delete row with NaN value; otherwise ready           \n",
    "# Firm Address - need to create new columns relative to commas in order to visualize by country              \n",
    "# Product Code and Description - separate product code and description\n",
    "# Refused Date - change to date datatype\n",
    "# Import Division - identify number of unique values to ensure no regex needed\n",
    "# Shipment ID - learn more about these values to see if they can be visualized              \n",
    "# FDA Sample Analysis - ensure values are only yes and no        \n",
    "# Private Lab Analysis - ensure values are only yes and no        \n",
    "# Refusal Charges - separate into \"Refusal Charge 1,\" \"Refusal Charge 2,\" etc. and combine with refusal charges dataset to include refusal charge description in this dataset\n",
    "\n",
    "# Join product type datasets with this one to add the extra product type column \n",
    "# Why are there multiple rows for same Shipment ID/etc?\n",
    "# Categorize Analysis columns - machine learning to determine which types of products would be most likely sent for analysis?"
   ]
  }
 ],
 "metadata": {
  "kernelspec": {
   "display_name": "Python 3 (ipykernel)",
   "language": "python",
   "name": "python3"
  },
  "language_info": {
   "codemirror_mode": {
    "name": "ipython",
    "version": 3
   },
   "file_extension": ".py",
   "mimetype": "text/x-python",
   "name": "python",
   "nbconvert_exporter": "python",
   "pygments_lexer": "ipython3",
   "version": "3.7.11"
  }
 },
 "nbformat": 4,
 "nbformat_minor": 5
}
